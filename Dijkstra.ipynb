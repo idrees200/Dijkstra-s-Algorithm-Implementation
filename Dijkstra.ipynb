{
  "nbformat": 4,
  "nbformat_minor": 0,
  "metadata": {
    "colab": {
      "provenance": []
    },
    "kernelspec": {
      "name": "python3",
      "display_name": "Python 3"
    },
    "language_info": {
      "name": "python"
    }
  },
  "cells": [
    {
      "cell_type": "code",
      "source": [
        "import heapq"
      ],
      "metadata": {
        "id": "F3MHC6lGDzNg"
      },
      "execution_count": null,
      "outputs": []
    },
    {
      "cell_type": "code",
      "source": [
        "graph = {\n",
        "    'A': {'B': 20, 'D': 80, 'G': 90},\n",
        "    'B': {'F': 10},\n",
        "    'C': {'F': 50, 'H': 20, 'D': 10},\n",
        "    'D': {'G': 20, 'C': 10},\n",
        "    'E': {'B': 50, 'G': 30},\n",
        "    'F': {'C': 10, 'D': 40},\n",
        "    'G': {'A': 20},\n",
        "    'H': {}\n",
        "}"
      ],
      "metadata": {
        "id": "TubgBr2jD4Dv"
      },
      "execution_count": null,
      "outputs": []
    },
    {
      "cell_type": "code",
      "source": [
        "def dijkstra(graph, start):\n",
        "    distances = {vertex: float('infinity') for vertex in graph}\n",
        "    distances[start] = 0\n",
        "    pq = [(0, start)]\n",
        "    previous = {vertex: None for vertex in graph}\n",
        "\n",
        "    while pq:\n",
        "        current_distance, current_vertex = heapq.heappop(pq)\n",
        "        for neighbor, weight in graph[current_vertex].items():\n",
        "            distance = current_distance + weight\n",
        "            if distance < distances[neighbor]:\n",
        "                distances[neighbor] = distance\n",
        "                previous[neighbor] = current_vertex\n",
        "                heapq.heappush(pq, (distance, neighbor))\n",
        "\n",
        "    return distances, previous"
      ],
      "metadata": {
        "id": "MKTtMHiSD7fG"
      },
      "execution_count": null,
      "outputs": []
    },
    {
      "cell_type": "code",
      "execution_count": null,
      "metadata": {
        "colab": {
          "base_uri": "https://localhost:8080/"
        },
        "id": "CaDysUyA7jRK",
        "outputId": "901363f2-1fff-4767-e8c6-a0b321c85e54"
      },
      "outputs": [
        {
          "output_type": "stream",
          "name": "stdout",
          "text": [
            "Shortest paths from A:\n",
            "To A: 0 units - Path: A\n",
            "To B: 20 units - Path: A -> B\n",
            "To C: 40 units - Path: A -> B -> F -> C\n",
            "To D: 50 units - Path: A -> B -> F -> C -> D\n",
            "To E: Not reachable - Path: E\n",
            "To F: 30 units - Path: A -> B -> F\n",
            "To G: 70 units - Path: A -> B -> F -> C -> D -> G\n",
            "To H: 60 units - Path: A -> B -> F -> C -> H\n"
          ]
        }
      ],
      "source": [
        "distances, previous = dijkstra(graph, 'A')\n",
        "print(\"Shortest paths from A:\")\n",
        "for vertex, distance in distances.items():\n",
        "    path = [vertex]\n",
        "    current_vertex = vertex\n",
        "    while previous[current_vertex] is not None:\n",
        "        path.insert(0, previous[current_vertex])\n",
        "        current_vertex = previous[current_vertex]\n",
        "\n",
        "    path_str = \" -> \".join(path)\n",
        "    distance_str = f\"{distance} units\" if distance != float('infinity') else \"Not reachable\"\n",
        "    print(f\"To {vertex}: {distance_str} - Path: {path_str}\")"
      ]
    }
  ]
}